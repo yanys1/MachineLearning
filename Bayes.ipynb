{
 "cells": [
  {
   "cell_type": "code",
   "execution_count": 1,
   "metadata": {},
   "outputs": [],
   "source": [
    "import numpy as np\n",
    "import math"
   ]
  },
  {
   "cell_type": "code",
   "execution_count": 35,
   "metadata": {},
   "outputs": [],
   "source": [
    "\n",
    "class NaiveBayes():   \n",
    "    \"\"\"The Gaussian Naive Bayes classifier. \"\"\"\n",
    "    def fit(self, X, y):\n",
    "        \n",
    "        \"\"\"\n",
    "        X [shape,features]\n",
    "        y [shape,label]\n",
    "        \"\"\"\n",
    "        \n",
    "        self.X, self.y = X, y\n",
    "        self.classes = np.unique(y)\n",
    "        self.parameters = []\n",
    "        # 计算每一个类别的每一个特征的方差和均值\n",
    "        for i, c in enumerate(self.classes):\n",
    "            X_where_c = X[np.where(y == c)]\n",
    "            self.parameters.append([])\n",
    "            # 计算每一个特征\n",
    "            for j in range(X.shape[1]):\n",
    "                col = X_where_c[:, j] #列\n",
    "                parameters = {\"mean\": col.mean(), \"var\": col.var()} #求方差 与 均值\n",
    "                self.parameters[i].append(parameters)\n",
    "    \n",
    "    def _calculate_likelihood(self, mean, var, x):\n",
    "        \"\"\" 计算高斯概率密度 输入均值 和 方差\"\"\"\n",
    "        eps = 1e-4 # Added in denominator to prevent division by zero\n",
    "        coeff = 1.0 / math.sqrt(2.0 * math.pi * var + eps)\n",
    "        exponent = math.exp(-(math.pow(x - mean, 2) / (2 * var + eps)))\n",
    "        return coeff * exponent\n",
    "    def _calculate_prior(self, c):\n",
    "        \"\"\" 计算先验概率 \"\"\"\n",
    "        X_where_c = self.X[np.where(self.y == c)]\n",
    "        n_class_instances = X_where_c.shape[0]\n",
    "        n_total_instances = self.X.shape[0]\n",
    "        return n_class_instances / n_total_instances\n",
    "    \n",
    "    def _classify(self, sample):\n",
    "        posteriors = []\n",
    "        for i, c in enumerate(self.classes):\n",
    "            # 计算每一个类别的先验概率 p(y=c)=?\n",
    "            posterior = self._calculate_prior(c)\n",
    "            \n",
    "            for j, params in enumerate(self.parameters[i]):\n",
    "                # 提取每一个类别下的特征值的方差 以及 均值\n",
    "                sample_feature = sample[j]\n",
    "                # 计算高斯密度\n",
    "                likelihood = self._calculate_likelihood(params[\"mean\"], params[\"var\"], sample_feature)\n",
    "                posterior *= likelihood\n",
    "            posteriors.append(posterior)\n",
    "        # 求最大概率对应的类别\n",
    "        index_of_max = np.argmax(posteriors)\n",
    "        return self.classes[index_of_max]\n",
    "    def predict(self, X):\n",
    "        y_pred = []\n",
    "        for sample in X:\n",
    "            y = self._classify(sample)\n",
    "            y_pred.append(y)\n",
    "        return y_pred\n",
    "        "
   ]
  },
  {
   "cell_type": "code",
   "execution_count": 48,
   "metadata": {},
   "outputs": [
    {
     "name": "stdout",
     "output_type": "stream",
     "text": [
      "(1078, 64)\n",
      "[[0.         0.         0.21067524 ... 0.         0.         0.        ]\n",
      " [0.         0.         0.10309644 ... 0.20619287 0.         0.        ]\n",
      " [0.         0.         0.06055048 ... 0.16651383 0.03027524 0.        ]\n",
      " ...\n",
      " [0.         0.         0.17323973 ... 0.05197192 0.         0.        ]\n",
      " [0.         0.         0.046291   ... 0.046291   0.         0.        ]\n",
      " [0.         0.         0.07271622 ... 0.15997567 0.02908649 0.        ]]\n"
     ]
    }
   ],
   "source": [
    "from sklearn import datasets\n",
    "from sklearn.preprocessing import normalize\n",
    "from sklearn.cross_validation import train_test_split\n",
    "\n",
    "data = datasets.load_digits()\n",
    "X = normalize(data.data)\n",
    "y = data.target\n",
    "X_train, X_test, y_train, y_test = train_test_split(X, y, test_size=0.4)\n",
    "print X_train.shape\n",
    "print X_train"
   ]
  },
  {
   "cell_type": "code",
   "execution_count": 46,
   "metadata": {},
   "outputs": [],
   "source": [
    "clf = NaiveBayes()\n",
    "clf.fit(X_train, y_train)\n",
    "y_pred = clf.predict(X_test)"
   ]
  },
  {
   "cell_type": "code",
   "execution_count": 47,
   "metadata": {},
   "outputs": [
    {
     "data": {
      "text/plain": [
       "0.08888888888888889"
      ]
     },
     "execution_count": 47,
     "metadata": {},
     "output_type": "execute_result"
    }
   ],
   "source": [
    "from sklearn.metrics import accuracy_score\n",
    "accuracy_score(y_pred,y_test)"
   ]
  },
  {
   "cell_type": "code",
   "execution_count": null,
   "metadata": {},
   "outputs": [],
   "source": []
  },
  {
   "cell_type": "code",
   "execution_count": null,
   "metadata": {},
   "outputs": [],
   "source": []
  }
 ],
 "metadata": {
  "kernelspec": {
   "display_name": "Python 2",
   "language": "python",
   "name": "python2"
  },
  "language_info": {
   "codemirror_mode": {
    "name": "ipython",
    "version": 2
   },
   "file_extension": ".py",
   "mimetype": "text/x-python",
   "name": "python",
   "nbconvert_exporter": "python",
   "pygments_lexer": "ipython2",
   "version": "2.7.12"
  }
 },
 "nbformat": 4,
 "nbformat_minor": 2
}
